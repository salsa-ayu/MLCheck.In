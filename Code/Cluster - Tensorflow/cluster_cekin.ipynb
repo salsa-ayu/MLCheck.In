{
  "nbformat": 4,
  "nbformat_minor": 0,
  "metadata": {
    "colab": {
      "provenance": []
    },
    "kernelspec": {
      "name": "python3",
      "display_name": "Python 3"
    },
    "language_info": {
      "name": "python"
    }
  },
  "cells": [
    {
      "cell_type": "code",
      "execution_count": null,
      "metadata": {
        "id": "rBrJ0I-_kxxf"
      },
      "outputs": [],
      "source": [
        "import pandas as pd\n",
        "import tensorflow as tf\n",
        "from tensorflow import keras\n",
        "from tensorflow.keras.layers.experimental import preprocessing\n",
        "from sklearn.preprocessing import LabelEncoder, MinMaxScaler"
      ]
    },
    {
      "cell_type": "code",
      "source": [
        "# Load the data into a DataFrame\n",
        "data = pd.read_csv('/content/modified_datas.csv')\n",
        "data.head()"
      ],
      "metadata": {
        "colab": {
          "base_uri": "https://localhost:8080/",
          "height": 206
        },
        "id": "nvLPaTtekyry",
        "outputId": "d250fd0a-ab44-4733-b9c8-d70b231206f4"
      },
      "execution_count": null,
      "outputs": [
        {
          "output_type": "execute_result",
          "data": {
            "text/plain": [
              "   id   ket_waktu nama_marketplace       jenis_barang  status_promosi  \\\n",
              "0   1  2013-01-01           Lazada           Otomotif               0   \n",
              "1   2  2013-01-01           Lazada  Perlengkapan Bayi               0   \n",
              "2   3  2013-01-01           Lazada  Produk Kecantikan               0   \n",
              "3   4  2013-01-01           Lazada            Minuman               0   \n",
              "4   5  2013-01-01           Lazada     Buku dan Novel               0   \n",
              "\n",
              "   total_penjualan  \n",
              "0       809.148243  \n",
              "1       647.504899  \n",
              "2       312.767869  \n",
              "3       946.490214  \n",
              "4       936.897775  "
            ],
            "text/html": [
              "\n",
              "  <div id=\"df-580ad4e6-6a23-49d9-aa01-b2fcf1f989f7\">\n",
              "    <div class=\"colab-df-container\">\n",
              "      <div>\n",
              "<style scoped>\n",
              "    .dataframe tbody tr th:only-of-type {\n",
              "        vertical-align: middle;\n",
              "    }\n",
              "\n",
              "    .dataframe tbody tr th {\n",
              "        vertical-align: top;\n",
              "    }\n",
              "\n",
              "    .dataframe thead th {\n",
              "        text-align: right;\n",
              "    }\n",
              "</style>\n",
              "<table border=\"1\" class=\"dataframe\">\n",
              "  <thead>\n",
              "    <tr style=\"text-align: right;\">\n",
              "      <th></th>\n",
              "      <th>id</th>\n",
              "      <th>ket_waktu</th>\n",
              "      <th>nama_marketplace</th>\n",
              "      <th>jenis_barang</th>\n",
              "      <th>status_promosi</th>\n",
              "      <th>total_penjualan</th>\n",
              "    </tr>\n",
              "  </thead>\n",
              "  <tbody>\n",
              "    <tr>\n",
              "      <th>0</th>\n",
              "      <td>1</td>\n",
              "      <td>2013-01-01</td>\n",
              "      <td>Lazada</td>\n",
              "      <td>Otomotif</td>\n",
              "      <td>0</td>\n",
              "      <td>809.148243</td>\n",
              "    </tr>\n",
              "    <tr>\n",
              "      <th>1</th>\n",
              "      <td>2</td>\n",
              "      <td>2013-01-01</td>\n",
              "      <td>Lazada</td>\n",
              "      <td>Perlengkapan Bayi</td>\n",
              "      <td>0</td>\n",
              "      <td>647.504899</td>\n",
              "    </tr>\n",
              "    <tr>\n",
              "      <th>2</th>\n",
              "      <td>3</td>\n",
              "      <td>2013-01-01</td>\n",
              "      <td>Lazada</td>\n",
              "      <td>Produk Kecantikan</td>\n",
              "      <td>0</td>\n",
              "      <td>312.767869</td>\n",
              "    </tr>\n",
              "    <tr>\n",
              "      <th>3</th>\n",
              "      <td>4</td>\n",
              "      <td>2013-01-01</td>\n",
              "      <td>Lazada</td>\n",
              "      <td>Minuman</td>\n",
              "      <td>0</td>\n",
              "      <td>946.490214</td>\n",
              "    </tr>\n",
              "    <tr>\n",
              "      <th>4</th>\n",
              "      <td>5</td>\n",
              "      <td>2013-01-01</td>\n",
              "      <td>Lazada</td>\n",
              "      <td>Buku dan Novel</td>\n",
              "      <td>0</td>\n",
              "      <td>936.897775</td>\n",
              "    </tr>\n",
              "  </tbody>\n",
              "</table>\n",
              "</div>\n",
              "      <button class=\"colab-df-convert\" onclick=\"convertToInteractive('df-580ad4e6-6a23-49d9-aa01-b2fcf1f989f7')\"\n",
              "              title=\"Convert this dataframe to an interactive table.\"\n",
              "              style=\"display:none;\">\n",
              "        \n",
              "  <svg xmlns=\"http://www.w3.org/2000/svg\" height=\"24px\"viewBox=\"0 0 24 24\"\n",
              "       width=\"24px\">\n",
              "    <path d=\"M0 0h24v24H0V0z\" fill=\"none\"/>\n",
              "    <path d=\"M18.56 5.44l.94 2.06.94-2.06 2.06-.94-2.06-.94-.94-2.06-.94 2.06-2.06.94zm-11 1L8.5 8.5l.94-2.06 2.06-.94-2.06-.94L8.5 2.5l-.94 2.06-2.06.94zm10 10l.94 2.06.94-2.06 2.06-.94-2.06-.94-.94-2.06-.94 2.06-2.06.94z\"/><path d=\"M17.41 7.96l-1.37-1.37c-.4-.4-.92-.59-1.43-.59-.52 0-1.04.2-1.43.59L10.3 9.45l-7.72 7.72c-.78.78-.78 2.05 0 2.83L4 21.41c.39.39.9.59 1.41.59.51 0 1.02-.2 1.41-.59l7.78-7.78 2.81-2.81c.8-.78.8-2.07 0-2.86zM5.41 20L4 18.59l7.72-7.72 1.47 1.35L5.41 20z\"/>\n",
              "  </svg>\n",
              "      </button>\n",
              "      \n",
              "  <style>\n",
              "    .colab-df-container {\n",
              "      display:flex;\n",
              "      flex-wrap:wrap;\n",
              "      gap: 12px;\n",
              "    }\n",
              "\n",
              "    .colab-df-convert {\n",
              "      background-color: #E8F0FE;\n",
              "      border: none;\n",
              "      border-radius: 50%;\n",
              "      cursor: pointer;\n",
              "      display: none;\n",
              "      fill: #1967D2;\n",
              "      height: 32px;\n",
              "      padding: 0 0 0 0;\n",
              "      width: 32px;\n",
              "    }\n",
              "\n",
              "    .colab-df-convert:hover {\n",
              "      background-color: #E2EBFA;\n",
              "      box-shadow: 0px 1px 2px rgba(60, 64, 67, 0.3), 0px 1px 3px 1px rgba(60, 64, 67, 0.15);\n",
              "      fill: #174EA6;\n",
              "    }\n",
              "\n",
              "    [theme=dark] .colab-df-convert {\n",
              "      background-color: #3B4455;\n",
              "      fill: #D2E3FC;\n",
              "    }\n",
              "\n",
              "    [theme=dark] .colab-df-convert:hover {\n",
              "      background-color: #434B5C;\n",
              "      box-shadow: 0px 1px 3px 1px rgba(0, 0, 0, 0.15);\n",
              "      filter: drop-shadow(0px 1px 2px rgba(0, 0, 0, 0.3));\n",
              "      fill: #FFFFFF;\n",
              "    }\n",
              "  </style>\n",
              "\n",
              "      <script>\n",
              "        const buttonEl =\n",
              "          document.querySelector('#df-580ad4e6-6a23-49d9-aa01-b2fcf1f989f7 button.colab-df-convert');\n",
              "        buttonEl.style.display =\n",
              "          google.colab.kernel.accessAllowed ? 'block' : 'none';\n",
              "\n",
              "        async function convertToInteractive(key) {\n",
              "          const element = document.querySelector('#df-580ad4e6-6a23-49d9-aa01-b2fcf1f989f7');\n",
              "          const dataTable =\n",
              "            await google.colab.kernel.invokeFunction('convertToInteractive',\n",
              "                                                     [key], {});\n",
              "          if (!dataTable) return;\n",
              "\n",
              "          const docLinkHtml = 'Like what you see? Visit the ' +\n",
              "            '<a target=\"_blank\" href=https://colab.research.google.com/notebooks/data_table.ipynb>data table notebook</a>'\n",
              "            + ' to learn more about interactive tables.';\n",
              "          element.innerHTML = '';\n",
              "          dataTable['output_type'] = 'display_data';\n",
              "          await google.colab.output.renderOutput(dataTable, element);\n",
              "          const docLink = document.createElement('div');\n",
              "          docLink.innerHTML = docLinkHtml;\n",
              "          element.appendChild(docLink);\n",
              "        }\n",
              "      </script>\n",
              "    </div>\n",
              "  </div>\n",
              "  "
            ]
          },
          "metadata": {},
          "execution_count": 5
        }
      ]
    },
    {
      "cell_type": "code",
      "source": [
        "# Convert categorical columns to string type\n",
        "data['ket_waktu'] = pd.to_datetime(data['ket_waktu']).dt.strftime('%Y-%m-%d')\n",
        "data['nama_marketplace'] = data['nama_marketplace'].astype(str)\n",
        "data['jenis_barang'] = data['jenis_barang'].astype(str)"
      ],
      "metadata": {
        "id": "SYu-qgXUk9kA"
      },
      "execution_count": null,
      "outputs": []
    },
    {
      "cell_type": "code",
      "source": [
        "# Encode categorical columns using label encoding\n",
        "label_encoder = LabelEncoder()\n",
        "data['ket_waktu'] = label_encoder.fit_transform(data['ket_waktu'])\n",
        "data['nama_marketplace'] = label_encoder.fit_transform(data['nama_marketplace'])\n",
        "data['jenis_barang'] = label_encoder.fit_transform(data['jenis_barang'])"
      ],
      "metadata": {
        "id": "QmCnxVlyk-zZ"
      },
      "execution_count": null,
      "outputs": []
    },
    {
      "cell_type": "code",
      "source": [
        "# Select relevant features for clustering\n",
        "features = ['ket_waktu', 'nama_marketplace', 'jenis_barang', 'status_promosi', 'total_penjualan']\n",
        "X = data[features].values\n",
        "\n",
        "# Convert feature values to float32\n",
        "X = X.astype('float32')\n",
        "\n",
        "# Normalize the feature values\n",
        "scaler = MinMaxScaler()\n",
        "X = scaler.fit_transform(X)"
      ],
      "metadata": {
        "id": "vSv5sXCrlNKf"
      },
      "execution_count": null,
      "outputs": []
    },
    {
      "cell_type": "code",
      "source": [
        "# Create a TensorFlow K-means model\n",
        "kmeans = tf.compat.v1.estimator.experimental.KMeans(num_clusters=5)\n",
        "\n",
        "# Define an input function\n",
        "input_fn = tf.compat.v1.estimator.inputs.numpy_input_fn(X, None, shuffle=True)\n",
        "\n",
        "# Train the model\n",
        "kmeans.train(input_fn=input_fn, steps=100)"
      ],
      "metadata": {
        "colab": {
          "base_uri": "https://localhost:8080/"
        },
        "id": "afil6SCmnx39",
        "outputId": "86af6bd6-4b18-4fc6-86fb-d9ce91c0544e"
      },
      "execution_count": null,
      "outputs": [
        {
          "output_type": "stream",
          "name": "stderr",
          "text": [
            "WARNING:tensorflow:Using temporary folder as model directory: /tmp/tmpu5p005pn\n"
          ]
        },
        {
          "output_type": "execute_result",
          "data": {
            "text/plain": [
              "<tensorflow_estimator.python.estimator.canned.kmeans.KMeansClustering at 0x7f262c8e5930>"
            ]
          },
          "metadata": {},
          "execution_count": 26
        }
      ]
    },
    {
      "cell_type": "code",
      "source": [
        "# Get the cluster centers\n",
        "cluster_centers = kmeans.cluster_centers()\n",
        "\n",
        "# Print cluster centers\n",
        "print(\"Cluster Centers:\")\n",
        "print(cluster_centers)\n"
      ],
      "metadata": {
        "colab": {
          "base_uri": "https://localhost:8080/"
        },
        "id": "I1-vaR4_qXpt",
        "outputId": "92adbad8-7d8c-40e8-f229-5ef9ebf91374"
      },
      "execution_count": null,
      "outputs": [
        {
          "output_type": "stream",
          "name": "stdout",
          "text": [
            "Cluster Centers:\n",
            "[[0.         0.         0.305462   0.         0.82406265]\n",
            " [0.         0.         0.83563    0.         0.691297  ]\n",
            " [0.         0.         0.45724028 0.         0.47342813]\n",
            " [0.         0.         0.17456588 0.         0.24816807]\n",
            " [0.         0.         0.7685885  0.         0.1857861 ]]\n"
          ]
        }
      ]
    },
    {
      "cell_type": "code",
      "source": [],
      "metadata": {
        "id": "AYIdzwX1qMue"
      },
      "execution_count": null,
      "outputs": []
    }
  ]
}